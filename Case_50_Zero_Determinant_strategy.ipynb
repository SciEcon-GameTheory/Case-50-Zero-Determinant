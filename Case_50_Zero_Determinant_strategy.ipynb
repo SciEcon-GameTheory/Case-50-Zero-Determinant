{
  "nbformat": 4,
  "nbformat_minor": 2,
  "metadata": {
    "colab": {
      "name": "Case-50-Zero- Determinant strategy.ipynb",
      "provenance": [],
      "collapsed_sections": []
    },
    "kernelspec": {
      "name": "python3",
      "display_name": "Python 3"
    },
    "language_info": {
      "name": "python"
    }
  },
  "cells": [
    {
      "cell_type": "markdown",
      "source": [
        "<font size = 6> Case-50 - Game Dilemma Analysis and Optimization of PoW Consensus Algorithm </font>"
      ],
      "metadata": {
        "id": "MzXkEYD1CD5h"
      }
    },
    {
      "cell_type": "markdown",
      "source": [
        "<font face = Times size=4>\n",
        "\n",
        "***Backgrounds:***\n",
        "\n",
        "1.Block interception attacks:\n",
        "\n",
        "Block interception attack refers to the attack between miners and miners in a open block pool. The key idea is that the attackers only send part of their work proof to the manager of the pool. Attackers can neither use the computational power for attacking for other purposes, nor gain extra profits from those computational power. Therefore, this kind of attack will on one hand, lead to the waste of computational power, on the other hand, hurt the overall profits of the pool.\n",
        "\n",
        "2.Prisoner's Dilemma in this scenario:\n",
        "\n",
        "Remember the attack we introduced above, whether or not to attack become a dillemma for miners. If all of them do not attack, their profits will be maximized, however, one can always choose to attack to increase his/her own profits. Therefore, it becomes a classic Prisoner's Dilemma problem.\n",
        "\n",
        "</font>"
      ],
      "metadata": {
        "id": "kwPC6oPyCL2_"
      }
    },
    {
      "cell_type": "markdown",
      "source": [
        "<div align=\"center\">\n",
        "<a href=\"https://i.loli.net/2021/07/11/1ZF7rGYun3pjcmf.png\" target=\"_blank\"><img src=\"https://i.loli.net/2021/07/11/1ZF7rGYun3pjcmf.png\" ></a>\n",
        "    </div>"
      ],
      "metadata": {
        "id": "jzpCbKTiGha6"
      }
    },
    {
      "cell_type": "markdown",
      "source": [
        "<font face = Times size=4>\n",
        "\n",
        "***A more specific scenario:***\n",
        "\n",
        "In the open mining pool, LM mines normally, and will cost a certain amount of computational power. We assume the resources spent is $c(0<c<0)$. Cooperation between miners will increase the probability of successful mining, and the expected profits will exceed the profits mining on their own. We assume the profits will expand $r (r>1)$ times, system will be expanded revenue and fair distribution according to work force, in order to simplify the model, assuming that each miner's work force is the same, the expanded Earnings will be split, when men don't loyal to dig, to block the mine pool intercept attack, mineral pool administrator will calculate by its contribution to the force distribution of profits, such behavior not only reduce the mine pool gross income, income of all miners will also reduce, this is the \"Free riders\" in the mining process (Free rider). Here we only consider mine pool has two miners, each miner has two strategies to choose: Cooperation (C) or Attack (A). We assime the profits each miner mines normally is 1, their profits are shown in the matrix above.\n",
        "\n",
        "</font>"
      ],
      "metadata": {
        "id": "Sg7QUvl_HkkP"
      }
    },
    {
      "cell_type": "markdown",
      "source": [
        "<font face = Times size=4>\n",
        "\n",
        "***Research questions:***\n",
        "\n",
        "The goal of the paper is to optimize the block mining dilemma. In order to do so, the authors apply zero determinant strategy (ZD) to this scenario.\n",
        "\n",
        "</font>"
      ],
      "metadata": {
        "id": "eJM0Vbp-FSlt"
      }
    },
    {
      "cell_type": "markdown",
      "source": [
        "<font face = Times size=4>\n",
        "\n",
        "***Models:***\n",
        "\n",
        "We assume there are two kinds of miners in a open mining pool, loyal miners (LM, mining normally, maintain the overall profits of the pool) and selfish miner (SM, mining selfishly, only cares about his/her own profits).\n",
        "For $(\\mathrm{C}, \\mathrm{C}),(\\mathrm{C}, \\mathrm{A}),(\\mathrm{A}, \\mathrm{C}),(\\mathrm{A}, \\mathrm{A})$ these four situations, the mixed strategy for LM and SM are $\\operatorname{lm}=$ $\\left[a_{1}, a_{2}, a_{3}, a_{4}\\right]$ and $s m=\\left[b_{1}, b_{2}, b_{3}, b_{4}\\right], l m, s m$ are the probability transition vector. \n",
        "\n",
        "the revenue for LM is:\n",
        "\n",
        "\\begin{aligned}\n",
        "W^{L}=&\\left[R^{L}, S^{L}, T^{L}, P^{L}\\right]^{\\mathrm{T}}=\\\\\n",
        "&\\left[r(1-c), \\frac{1}{2}-c, \\frac{1}{2}, 0\\right]^{\\mathrm{T}}\n",
        "\\end{aligned}\n",
        "\n",
        "the revenue for SM is:\n",
        "\n",
        "\\begin{aligned}\n",
        "W^{S}=&\\left[R^{S}, T^{S}, S^{S}, P^{S}\\right]^{\\mathrm{T}}=\\\\\n",
        "&\\left[r(1-c), \\frac{1}{2}, \\frac{1}{2}-c, 0\\right]^{\\mathrm{T}}\n",
        "\\end{aligned}\n",
        "\n",
        "Therefore, the transition strategy for the two miners can be represented by the Markov transition matrix $M$, in which the Markov steady vector $s=\\left[s_{1}, s_{2}, s_{3}, s_{4}\\right]^{\\mathrm{T}}$, and $s_{1}+s_{2}+s_{3}+s_{4}=1.$\n",
        "\n",
        "$$\n",
        "M=\\left[\\begin{array}{llll}\n",
        "a_{1} b_{1} & a_{1}\\left(1-b_{1}\\right) & \\left(1-a_{1}\\right) b_{1} & \\left(1-a_{1}\\right)\\left(1-b_{1}\\right) \\\\\n",
        "a_{2} b_{3} & a_{2}\\left(1-b_{3}\\right) & \\left(1-a_{2}\\right) b_{3} & \\left(1-a_{2}\\right)\\left(1-b_{3}\\right) \\\\\n",
        "a_{3} b_{2} & a_{3}\\left(1-b_{2}\\right) & \\left(1-a_{3}\\right) b_{2} & \\left(1-a_{3}\\right)\\left(1-b_{2}\\right) \\\\\n",
        "a_{4} b_{4} & a_{4}\\left(1-b_{4}\\right) & \\left(1-a_{4}\\right) b_{4} & \\left(1-a_{4}\\right)\\left(1-b_{4}\\right)\n",
        "\\end{array}\\right]\n",
        "$$\n",
        "\n",
        "$$\n",
        "s^{\\mathrm{T}} M=\\boldsymbol{s}^{\\mathrm{T}}\n",
        "$$\n",
        "\n",
        "Therefore, the steady expected revenue for LM and SM are:\n",
        "$$\n",
        "\\begin{aligned}\n",
        "U^{L} &=\\boldsymbol{s}^{\\mathrm{T}} W^{\\mathrm{L}} \\\\\n",
        "U^{S} &=\\boldsymbol{s}^{\\mathrm{T}} W^{S}\n",
        "\\end{aligned}\n",
        "$$\n",
        "\n",
        "\n",
        "\n",
        "</font>"
      ],
      "metadata": {
        "id": "avaYW52RF4SY"
      }
    },
    {
      "cell_type": "markdown",
      "source": [
        "<font face = Times size=4>\n",
        "\n",
        "***Theorem for this scenario:***\n",
        "\n",
        "In a open pool, when LM takes the ZD strategy, LM can control the revenue of SM to form a **linear relation with his/her own revenue**: $\\gamma=\\alpha U^{L}+\\beta U^{S}$.\n",
        "\n",
        "For detailed derivation process, please refer to the original paper.\n",
        "\n",
        "</font>"
      ],
      "metadata": {
        "id": "6gXw9b-NQXGe"
      }
    },
    {
      "cell_type": "markdown",
      "source": [
        "<font face = Times size=4>\n",
        "\n",
        "***Simulation in Python code:***\n",
        "\n",
        "According to the model and the theorem above, we use valid data to vertify and illustrate the result. We assume the parameter for the resources spent to be $c=5 / 8$, the expanded times to be $r=5 / 3, \\phi=1 / 20, \\alpha=8, \\beta=-18 .$ The revenue vectors for LM and SM are $W^{L}=[5 / 8,-1 / 8,1 / 2,0]^{\\mathrm{T}}$, $W^{S}=[5 / 8,1 / 2,-1 / 8,0]^{\\mathrm{T}}$.\n",
        "\n",
        "In the following code, we use Python to show when LM chooses the ZD strategy and SM chooses the WSFS strategy (the mixed strategy for WSFS is $[1,0,1,0].$\n",
        "\n",
        "</font>"
      ],
      "metadata": {
        "id": "TiDX3rXOQ_wc"
      }
    }
  ]
}